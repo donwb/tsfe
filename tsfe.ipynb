{
 "cells": [
  {
   "cell_type": "markdown",
   "metadata": {},
   "source": [
    "# TSFE Analysis"
   ]
  },
  {
   "cell_type": "markdown",
   "metadata": {},
   "source": [
    "Some great folks in the JM sub on Reddit cataloged all songs played during The Search For Everything tour in '17. This is a csv version of that Google Sheet. The origional can be found here: https://docs.google.com/spreadsheets/d/1DeS4XIgtaw4LVuUXX3LLTStRbiaU_RDBy_RqJBXQ6JY/edit#gid=0\n",
    "\n",
    "I've added a column the represents the album the song was from.\n",
    "\n",
    "Added line...  Another one...\n"
   ]
  },
  {
   "cell_type": "markdown",
   "metadata": {},
   "source": [
    "### Load and check out the first 5 rows"
   ]
  },
  {
   "cell_type": "code",
   "execution_count": 5,
   "metadata": {},
   "outputs": [
    {
     "name": "stdout",
     "output_type": "stream",
     "text": [
      "                             Song Album  Count Alb-NY MntCAN TorCAN MSG-NY  \\\n",
      "0  Slow Dancing in a Burning Room     C     55     FB     FB    NaN     FB   \n",
      "1      Moving On and Getting Over  TSFE     52     FB     FB     FB     FB   \n",
      "2                     Why Georgia   RFS     51     FB    NaN     FB     FB   \n",
      "3                        Helpless  TSFE     51     FB     FB     FB     FB   \n",
      "4                         Gravity     C     49    NaN     FB     FB     FB   \n",
      "\n",
      "  WshDC Philly Bos-MA     ...     Controlled Danger - NYC Bristw-VA Cinn-OH  \\\n",
      "0    FB     FB     FB     ...                         NaN        FB      FB   \n",
      "1    FB     FB     FB     ...                         NaN        FB      FB   \n",
      "2    FB     FB     FB     ...                         NaN        FB      FB   \n",
      "3   NaN     FB    NaN     ...                         NaN        FB      FB   \n",
      "4   NaN     FB     FB     ...                         NaN        FB      FB   \n",
      "\n",
      "  DarCntr-NY Tornto-ON CFalls-OH Clrkstn-MI TPark-IL Nbsvil-IL Unnamed: 63  \n",
      "0         FB        FB        FB         FB       FB        FB         NaN  \n",
      "1         FB        FB        FB         FB       FB        FB         NaN  \n",
      "2         FB        FB        FB         FB       FB        FB         NaN  \n",
      "3         FB        FB        FB         FB       FB        FB         NaN  \n",
      "4         FB        FB        FB         FB       FB        FB         NaN  \n",
      "\n",
      "[5 rows x 64 columns]\n"
     ]
    }
   ],
   "source": [
    "import pandas as pd\n",
    "\n",
    "df = pd.read_csv('tsfe17.csv')\n",
    "print(df.head(5))\n"
   ]
  },
  {
   "cell_type": "markdown",
   "metadata": {},
   "source": [
    "#### Do some album counts for all the shows\n",
    "Interesting columns: id, Song, Album\n"
   ]
  },
  {
   "cell_type": "code",
   "execution_count": 12,
   "metadata": {},
   "outputs": [
    {
     "name": "stdout",
     "output_type": "stream",
     "text": [
      "TSFE:  10\n",
      "Continuum:  12\n"
     ]
    }
   ],
   "source": [
    "# df.loc[df['A'] == 'foo']\n",
    "tsfe = df.loc[df['Album'] == 'TSFE']\n",
    "print(\"TSFE: \", tsfe.shape[0])\n",
    "\n",
    "cont = df.loc[df['Album'] == 'C']\n",
    "print(\"Continuum: \", cont.shape[0])\n"
   ]
  },
  {
   "cell_type": "code",
   "execution_count": null,
   "metadata": {
    "collapsed": true
   },
   "outputs": [],
   "source": []
  }
 ],
 "metadata": {
  "kernelspec": {
   "display_name": "conda_python3",
   "language": "python",
   "name": "conda_python3"
  },
  "language_info": {
   "codemirror_mode": {
    "name": "ipython",
    "version": 3
   },
   "file_extension": ".py",
   "mimetype": "text/x-python",
   "name": "python",
   "nbconvert_exporter": "python",
   "pygments_lexer": "ipython3",
   "version": "3.6.5"
  }
 },
 "nbformat": 4,
 "nbformat_minor": 2
}
